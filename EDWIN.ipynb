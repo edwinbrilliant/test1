{
 "cells": [
  {
   "cell_type": "code",
   "execution_count": null,
   "id": "23983872",
   "metadata": {},
   "outputs": [],
   "source": [
    "import segyio"
   ]
  },
  {
   "cell_type": "code",
   "execution_count": null,
   "id": "f0aafcec",
   "metadata": {},
   "outputs": [],
   "source": [
    "data = segyio.open('Nama_File_Input.sgy',mode='r+',ignore_geometry=True)\n",
    "trace = np.transpose(data.trace.raw[:]) # 2D Array trace seismic\n",
    "trace.shape"
   ]
  },
  {
   "cell_type": "code",
   "execution_count": null,
   "id": "8bcb0df1",
   "metadata": {},
   "outputs": [],
   "source": [
    "# contoh pengolahan\n",
    "hasil = trace*2"
   ]
  },
  {
   "cell_type": "code",
   "execution_count": null,
   "id": "49ef80a1",
   "metadata": {},
   "outputs": [],
   "source": [
    "out = segyio.spec()\n",
    "out.tracecount = np.shape(trace)[0]*np.shape(trace)[1]\n",
    "out.sorting = data.sorting\n",
    "out.format = data.format\n",
    "out.samples = list(range(1500)) # sesuaikan jumlah sampel (panjang data seismic)\n",
    "with segyio.create('Nama_File_Output.sgy', out) as output:\n",
    "    output.trace = np.transpose(hasil)\n",
    "    output.text[0] = data.text[0]\n",
    "    output.bin = data.bin\n",
    "    output.header = data.header"
   ]
  }
 ],
 "metadata": {
  "kernelspec": {
   "display_name": "Python 3",
   "language": "python",
   "name": "python3"
  },
  "language_info": {
   "codemirror_mode": {
    "name": "ipython",
    "version": 3
   },
   "file_extension": ".py",
   "mimetype": "text/x-python",
   "name": "python",
   "nbconvert_exporter": "python",
   "pygments_lexer": "ipython3",
   "version": "3.6.4"
  }
 },
 "nbformat": 4,
 "nbformat_minor": 5
}
